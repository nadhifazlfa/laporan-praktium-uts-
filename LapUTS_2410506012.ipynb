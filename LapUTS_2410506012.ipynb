{
  "nbformat": 4,
  "nbformat_minor": 0,
  "metadata": {
    "colab": {
      "provenance": [],
      "authorship_tag": "ABX9TyPvgQUThP+J7IGjN1fpwmy1",
      "include_colab_link": true
    },
    "kernelspec": {
      "name": "python3",
      "display_name": "Python 3"
    },
    "language_info": {
      "name": "python"
    }
  },
  "cells": [
    {
      "cell_type": "markdown",
      "metadata": {
        "id": "view-in-github",
        "colab_type": "text"
      },
      "source": [
        "<a href=\"https://colab.research.google.com/github/nadhifazlfa/laporan-praktium-uts-/blob/main/LapUTS_2410506012.ipynb\" target=\"_parent\"><img src=\"https://colab.research.google.com/assets/colab-badge.svg\" alt=\"Open In Colab\"/></a>"
      ]
    },
    {
      "cell_type": "code",
      "execution_count": null,
      "metadata": {
        "colab": {
          "base_uri": "https://localhost:8080/"
        },
        "id": "OQSoQq3wwqGa",
        "outputId": "de466d2e-cfa9-4cad-be19-70642b4d23a9"
      },
      "outputs": [
        {
          "output_type": "stream",
          "name": "stdout",
          "text": [
            "Masukkan NPM Anda2410506012\n",
            "Jumlah angka genap: 7\n",
            "Jumlah angka ganjil: 3\n"
          ]
        }
      ],
      "source": [
        "npm = input(\"Masukkan NPM Anda\")\n",
        "\n",
        "genap =0\n",
        "ganjil =0\n",
        "\n",
        "for angka in npm:\n",
        "  if int(angka) % 2 == 0:\n",
        "    genap += 1\n",
        "  else:\n",
        "    ganjil += 1\n",
        "\n",
        "print(\"Jumlah angka genap:\", genap)\n",
        "print(\"Jumlah angka ganjil:\",ganjil)\n"
      ]
    },
    {
      "cell_type": "code",
      "source": [
        "# Membuat program python untuk menampilkan segitiga angka\n",
        "\n",
        "b = int(input(\"masukkan jumlah baris : \"))\n",
        "\n",
        "angka = 1\n",
        "for i in range(1, b + 1):\n",
        "  for j in range(i):\n",
        "    print(angka,end=\" \")\n",
        "    angka += 1\n",
        "  print()\n",
        "\n",
        "\n"
      ],
      "metadata": {
        "colab": {
          "base_uri": "https://localhost:8080/"
        },
        "id": "Dd8U60fPy-pY",
        "outputId": "17453b43-b373-4ed6-a7b2-74221626a5f0"
      },
      "execution_count": null,
      "outputs": [
        {
          "output_type": "stream",
          "name": "stdout",
          "text": [
            "masukkan jumlah baris : 10 \n",
            "1 \n",
            "2 3 \n",
            "4 5 6 \n",
            "7 8 9 10 \n",
            "11 12 13 14 15 \n",
            "16 17 18 19 20 21 \n",
            "22 23 24 25 26 27 28 \n",
            "29 30 31 32 33 34 35 36 \n",
            "37 38 39 40 41 42 43 44 45 \n",
            "46 47 48 49 50 51 52 53 54 55 \n"
          ]
        }
      ]
    }
  ]
}